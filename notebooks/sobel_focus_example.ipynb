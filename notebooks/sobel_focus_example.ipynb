{
 "cells": [
  {
   "cell_type": "markdown",
   "metadata": {},
   "source": [
    "# Safas image filters \n",
    "\n",
    "This notebook demonstrates the use of the sobel_focus filter from safas/filters. A key component of safas is the pre-defined object filters. "
   ]
  },
  {
   "cell_type": "markdown",
   "metadata": {},
   "source": [
    "## Import modules and data\n",
    "\n",
    "Import safas  and other components for display and analysis. safas has several example images in the safas/data directory. These images are accessible as attributes of the data module because the __init__ function of safas/data also acts as a loader.   "
   ]
  },
  {
   "cell_type": "code",
   "execution_count": null,
   "metadata": {
    "pycharm": {
     "is_executing": true
    }
   },
   "outputs": [],
   "source": [
    "import sys\n",
    "sys.path.append(r'C:\\Users\\Ryan\\Desktop\\src\\safas-master')\n",
    "# Pacakge for viewing the images\n",
    "from matplotlib import pyplot as plt\n",
    "\n",
    "%matplotlib inline\n",
    "\n",
    "import cv2\n",
    "\n",
    "from safas import filters\n",
    "from safas import data\n",
    "from safas.filters.sobel_focus import imfilter\n",
    "from safas.filters.imfilters_module import add_contours"
   ]
  },
  {
   "cell_type": "markdown",
   "metadata": {},
   "source": [
    "## Process sample flocs image with threshold and sobel-based filter\n",
    "\n",
    "Multiple steps are often requires to extract the object of interest from the image. A good introduction to image segmentation may be read in the [sci-kit image](https://scikit-image.org/docs/dev/user_guide/tutorial_segmentation.html) or [OpenCV](https://docs.opencv.org/master/d2/d96/tutorial_py_table_of_contents_imgproc.html) documentation."
   ]
  },
  {
   "cell_type": "code",
   "execution_count": 1,
   "metadata": {},
   "outputs": [
    {
     "ename": "NameError",
     "evalue": "name 'data' is not defined",
     "output_type": "error",
     "traceback": [
      "\u001B[1;31m---------------------------------------------------------------------------\u001B[0m",
      "\u001B[1;31mNameError\u001B[0m                                 Traceback (most recent call last)",
      "\u001B[1;32m<ipython-input-1-22d1ed8e2f44>\u001B[0m in \u001B[0;36m<module>\u001B[1;34m()\u001B[0m\n\u001B[0;32m      1\u001B[0m \u001B[1;31m# pydev_debug_cell\u001B[0m\u001B[1;33m\u001B[0m\u001B[1;33m\u001B[0m\u001B[1;33m\u001B[0m\u001B[0m\n\u001B[1;32m----> 2\u001B[1;33m \u001B[0mimg\u001B[0m \u001B[1;33m=\u001B[0m \u001B[0mdata\u001B[0m\u001B[1;33m.\u001B[0m\u001B[0mbrightmudflocs\u001B[0m\u001B[1;33m(\u001B[0m\u001B[1;33m)\u001B[0m\u001B[1;33m\u001B[0m\u001B[1;33m\u001B[0m\u001B[0m\n\u001B[0m\u001B[0;32m      3\u001B[0m \u001B[1;33m\u001B[0m\u001B[0m\n\u001B[0;32m      4\u001B[0m \u001B[0mimg\u001B[0m \u001B[1;33m=\u001B[0m \u001B[0mimg\u001B[0m\u001B[1;33m[\u001B[0m\u001B[1;36m400\u001B[0m\u001B[1;33m:\u001B[0m\u001B[1;36m1000\u001B[0m\u001B[1;33m,\u001B[0m \u001B[1;36m400\u001B[0m\u001B[1;33m:\u001B[0m\u001B[1;36m1000\u001B[0m\u001B[1;33m,\u001B[0m \u001B[1;33m:\u001B[0m\u001B[1;33m]\u001B[0m\u001B[1;33m\u001B[0m\u001B[1;33m\u001B[0m\u001B[0m\n\u001B[0;32m      5\u001B[0m \u001B[0mprint\u001B[0m\u001B[1;33m(\u001B[0m\u001B[1;34m'shape:'\u001B[0m\u001B[1;33m,\u001B[0m \u001B[0mimg\u001B[0m\u001B[1;33m.\u001B[0m\u001B[0mshape\u001B[0m\u001B[1;33m)\u001B[0m\u001B[1;33m\u001B[0m\u001B[1;33m\u001B[0m\u001B[0m\n",
      "\u001B[1;31mNameError\u001B[0m: name 'data' is not defined"
     ]
    }
   ],
   "source": [
    "img = data.brightmudflocs()\n",
    "\n",
    "img = img[400:1000, 400:1000, :]\n",
    "print('shape:', img.shape)\n",
    "# apply threshold to segment the image \n",
    "params = {'img_thresh': 160,\n",
    "          'focus_filter': False,\n",
    "          'clearborder_filter': False,\n",
    "          'contour_color': (0,255,0)}\n",
    "        \n",
    "thresh_labels, thresh_contours = imfilter.imfilter(src=img.copy(), **params)\n",
    "\n",
    "# apply sobel-based gradient to segment the image \n",
    "params = {'img_thresh': 160,\n",
    "          'edge_thresh': 210,\n",
    "          'edge_distance': 1,\n",
    "          'focus_filter': True,\n",
    "          'clearborder_filter': True,\n",
    "          'contour_color': (0,255,0),}\n",
    "        \n",
    "sobel_labels, sobel_contours = imfilter.imfilter(src=img.copy(), **params)\n",
    "\n",
    "f, ax  = plt.subplots(1,3, dpi=250, figsize=(7.5, 3.5))\n",
    "ax = ax.ravel()\n",
    "for a in ax: \n",
    "    a.set_xticks([])\n",
    "    a.set_yticks([])\n",
    "    \n",
    "ax[0].imshow(img)\n",
    "ax[0].set_title('Raw image')\n",
    "ax[1].imshow(thresh_contours)\n",
    "ax[1].set_title('Threshold filter')\n",
    "ax[2].imshow(sobel_contours)\n",
    "ax[2].set_title('Sobel-focus filter')\n",
    "plt.tight_layout()\n",
    "\n",
    "\n",
    "save = True\n",
    "\n",
    "if save: \n",
    "    plt.savefig('png/filter_ex.png', dpi=900)"
   ]
  },
  {
   "cell_type": "code",
   "execution_count": null,
   "metadata": {},
   "outputs": [],
   "source": []
  }
 ],
 "metadata": {
  "kernelspec": {
   "display_name": "Python 3",
   "language": "python",
   "name": "python3"
  },
  "language_info": {
   "codemirror_mode": {
    "name": "ipython",
    "version": 3
   },
   "file_extension": ".py",
   "mimetype": "text/x-python",
   "name": "python",
   "nbconvert_exporter": "python",
   "pygments_lexer": "ipython3",
   "version": "3.6.13"
  }
 },
 "nbformat": 4,
 "nbformat_minor": 2
}